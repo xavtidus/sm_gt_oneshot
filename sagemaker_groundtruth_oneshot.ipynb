{
 "cells": [
  {
   "cell_type": "markdown",
   "metadata": {},
   "source": [
    "# Sagemaker Ground Truth One Shot Notebook\n",
    "## Train your completed Ground Truth labelling job in no time\n",
    "\n",
    "This notebook has to be executed on a SageMaker notebook instance. It will easily help you train a model straight from the completed output of a Sagemaker Ground Truth labelling job, with no prior knowledge required.\n",
    "\n",
    "*If you are asked to choose a kernel for this notebook, choose \"conda_mxnet_p36\" or \"MXNet 1.6 Python 3.6\"*\n"
   ]
  },
  {
   "cell_type": "markdown",
   "metadata": {},
   "source": [
    "## Configurables\n",
    "\n",
    "There is only one required configurable for this notebook, and that's the name of your Sagemaker Ground Truth Labelling Job which should be completed already. There are however, some optional configurables in the next cell should you wish to get a little adventurous."
   ]
  },
  {
   "cell_type": "code",
   "execution_count": null,
   "metadata": {},
   "outputs": [],
   "source": [
    "sm_groundtruth_labelling_job_name = \"awsdltv2FinalApproach\"\n",
    "\n",
    "# This script will automatically crawl this job for all the related manifest files to derrive \n",
    "# the remaining items of configuration about your training data, labels and S3 paths.\n"
   ]
  },
  {
   "cell_type": "markdown",
   "metadata": {},
   "source": [
    "And here are the optional configurables should you wish to customise your training"
   ]
  },
  {
   "cell_type": "code",
   "execution_count": null,
   "metadata": {},
   "outputs": [],
   "source": [
    "training_epochs = 20\n",
    "learning_rate = 0.001\n",
    "training_instance_type='ml.p2.8xlarge'"
   ]
  },
  {
   "cell_type": "markdown",
   "metadata": {},
   "source": [
    "That's it! From here on in, we will annotate code of interest with code comments for your information. Continue through all the steps to finish training your Sagemaker model."
   ]
  },
  {
   "cell_type": "markdown",
   "metadata": {},
   "source": [
    "## Let's start training.\n",
    "\n",
    "First we will install the dependencies needed"
   ]
  },
  {
   "cell_type": "code",
   "execution_count": null,
   "metadata": {},
   "outputs": [],
   "source": [
    "!pip install gluoncv==0.8.0\n",
    "!pip install opencv-python"
   ]
  },
  {
   "cell_type": "markdown",
   "metadata": {},
   "source": [
    "Now we will declare our imports"
   ]
  },
  {
   "cell_type": "code",
   "execution_count": null,
   "metadata": {
    "scrolled": true
   },
   "outputs": [],
   "source": [
    "import sagemaker\n",
    "import mxnet as mx\n",
    "import matplotlib.pyplot as plt\n",
    "import gluoncv as gcv\n",
    "import glob\n",
    "import math\n",
    "import numpy as np\n",
    "import json\n",
    "import cv2\n",
    "import os\n",
    "import tarfile\n",
    "import boto3\n",
    "import re\n",
    "from sagemaker.debugger import Rule, rule_configs\n",
    "from sagemaker.mxnet import MXNet, MXNetModel\n",
    "from sagemaker.tuner import IntegerParameter, CategoricalParameter, ContinuousParameter, HyperparameterTuner\n",
    "from gluoncv import model_zoo, data, utils\n",
    "import boto3"
   ]
  },
  {
   "cell_type": "markdown",
   "metadata": {},
   "source": [
    "We will determine the Sagemaker Service role"
   ]
  },
  {
   "cell_type": "code",
   "execution_count": null,
   "metadata": {},
   "outputs": [],
   "source": [
    "sagemaker_session = sagemaker.Session()\n",
    "role = sagemaker.get_execution_role()"
   ]
  },
  {
   "cell_type": "markdown",
   "metadata": {},
   "source": [
    "Now it's time to start automatically resolving information such as the training data manifest, output ground truth annotations manifest, the class labels used in training and the label attribute name for the training job (not always the same as the name you gave the job when you created it)"
   ]
  },
  {
   "cell_type": "code",
   "execution_count": null,
   "metadata": {},
   "outputs": [],
   "source": [
    "#Create a SageMaker Boto3 client to do some lookups\n",
    "sm_client = boto3.client('sagemaker')\n",
    "\n",
    "#query the SM GT Labelling Job by Name\n",
    "response = sm_client.describe_labeling_job(\n",
    "    LabelingJobName=sm_groundtruth_labelling_job_name\n",
    ")\n",
    "\n",
    "sm_gt_manifest_file_s3_path = response[\"LabelingJobOutput\"][\"OutputDatasetS3Uri\"]\n",
    "sm_gt_source_frames_manifest_s3_path = response[\"InputConfig\"][\"DataSource\"][\"S3DataSource\"][\"ManifestS3Uri\"]\n",
    "sm_gt_label_category_config_s3_path = response[\"LabelCategoryConfigS3Uri\"]\n",
    "\n",
    "source_training_frames_s3_prefix = '/'.join(sm_gt_source_frames_manifest_s3_path.split('/')[:-1])\n",
    "ground_truth_manifest_s3_prefix = '/'.join(sm_gt_manifest_file_s3_path.split('/')[:-1])\n",
    "\n",
    "# define an s3 client for some s3 operations\n",
    "s3_client = boto3.client('s3')\n",
    "\n",
    "#let's grab the config json file that contains all our labels for this Ground Truth job and build our classes array\n",
    "sm_gt_classes = []\n",
    "\n",
    "_bucketName = sm_gt_label_category_config_s3_path.split('/')[2]\n",
    "_keyPath = '/'.join(sm_gt_label_category_config_s3_path.split('/')[3:])\n",
    "response = s3_client.get_object(\n",
    "    Bucket=_bucketName,\n",
    "    Key=_keyPath\n",
    ")\n",
    "_label_cfg_file = json.loads(response['Body'].read().decode('utf-8'))\n",
    "\n",
    "for label in _label_cfg_file[\"labels\"]:\n",
    "    sm_gt_classes.append(label[\"label\"])\n",
    "            \n",
    "#Now we need to grab the manifest file from S3 to determine the \"Label Attribute Name\" for this labelling job, as it can be different from what the name is in Ground Truth\n",
    "_bucketName = sm_gt_manifest_file_s3_path.split('/')[2]\n",
    "_keyPath = '/'.join(sm_gt_manifest_file_s3_path.split('/')[3:])\n",
    "response = s3_client.get_object(\n",
    "    Bucket=_bucketName,\n",
    "    Key=_keyPath\n",
    ")\n",
    "manifest_file_body = response['Body'].read().decode('utf-8')\n",
    "manifest_line_0 = manifest_file_body.split('\\n')[0]\n",
    "_m_obj = json.loads(manifest_line_0)\n",
    "\n",
    "#We have now found the label attribute name for this manifest file.\n",
    "labelAttributeName = list(_m_obj.keys())[1]\n"
   ]
  },
  {
   "cell_type": "markdown",
   "metadata": {},
   "source": [
    "We will grab the preview image from your training set and overlay the applicable detection regions found by your annotators to preview the datasets and make sure we're about to start training with the right data."
   ]
  },
  {
   "cell_type": "code",
   "execution_count": null,
   "metadata": {},
   "outputs": [],
   "source": [
    "image_info = []\n",
    "\n",
    "lines = manifest_file_body.strip().split('\\n')\n",
    "for line in lines:\n",
    "    image_info.append(json.loads(line))\n",
    "\n",
    "info = image_info[0]\n",
    "\n",
    "class_map = info[f'{labelAttributeName}-metadata']['class-map']\n",
    "img_bucket = info['source-ref'].split('/')[2]\n",
    "img_filename = info['source-ref'].split('/')[-1]\n",
    "img_s3_path = \"/\".join(info['source-ref'].split('/')[3:])\n",
    "\n",
    "s3_client.download_file(img_bucket, img_s3_path, \"source-ref/\"+img_filename)\n",
    "\n",
    "image = plt.imread(os.path.join(\"source-ref\",img_filename))\n",
    "saved_image = image.copy() #Save an unmanipulated reference to the image\n",
    "boxes = info[labelAttributeName]['annotations']\n",
    "for box in boxes:\n",
    "    cv2.rectangle(image, (int(box['left']), int(box['top'])), (int(box['left']+box['width']), int(box['top']+box['height'])), (0,255,0), 3)\n",
    "plt.imshow(image)\n",
    "plt.show()"
   ]
  },
  {
   "cell_type": "markdown",
   "metadata": {},
   "source": [
    "Last but not least, it's time to create our MXNet Estimator and submit the job for training with Sagemaker. "
   ]
  },
  {
   "cell_type": "code",
   "execution_count": null,
   "metadata": {},
   "outputs": [],
   "source": [
    "mxnet_estimator = MXNet(entry_point='estimator.py',\n",
    "                        source_dir='entry_point',\n",
    "                        role=role,\n",
    "                        train_instance_type=training_instance_type,\n",
    "                        train_instance_count=1,\n",
    "                        sagemaker_session=sagemaker_session,\n",
    "                        framework_version='1.6.0', \n",
    "                        py_version='py3',\n",
    "                        hyperparameters={\n",
    "                            \"task-name\": labelAttributeName,\n",
    "                            \"classes-csv\": \",\".join(sm_gt_classes),\n",
    "                            \"target-epochs\": training_epochs,\n",
    "                            \"learning-rate\": learning_rate\n",
    "                        })\n",
    "\n",
    "mxnet_estimator.fit({'train': source_training_frames_s3_prefix, 'labels': ground_truth_manifest_s3_prefix})"
   ]
  },
  {
   "cell_type": "code",
   "execution_count": null,
   "metadata": {},
   "outputs": [],
   "source": []
  }
 ],
 "metadata": {
  "instance_type": "ml.g4dn.xlarge",
  "kernelspec": {
   "display_name": "Python 3 (MXNet 1.6 Python 3.6 GPU Optimized)",
   "language": "python",
   "name": "python3__SAGEMAKER_INTERNAL__arn:aws:sagemaker:ap-southeast-2:452832661640:image/mxnet-1.6-gpu-py36"
  },
  "language_info": {
   "codemirror_mode": {
    "name": "ipython",
    "version": 3
   },
   "file_extension": ".py",
   "mimetype": "text/x-python",
   "name": "python",
   "nbconvert_exporter": "python",
   "pygments_lexer": "ipython3",
   "version": "3.6.13"
  }
 },
 "nbformat": 4,
 "nbformat_minor": 4
}
